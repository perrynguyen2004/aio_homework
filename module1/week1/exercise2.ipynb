{
  "nbformat": 4,
  "nbformat_minor": 0,
  "metadata": {
    "colab": {
      "provenance": []
    },
    "kernelspec": {
      "name": "python3",
      "display_name": "Python 3"
    },
    "language_info": {
      "name": "python"
    }
  },
  "cells": [
    {
      "cell_type": "code",
      "execution_count": null,
      "metadata": {
        "colab": {
          "base_uri": "https://localhost:8080/"
        },
        "id": "ctetmnWhp1V6",
        "outputId": "4502af39-007b-49c4-c9c9-d7e0ece69bfc"
      },
      "outputs": [
        {
          "output_type": "stream",
          "name": "stdout",
          "text": [
            "[3, 4, 5, 1, -44, 5, 10, 12, 33, 33]\n"
          ]
        }
      ],
      "source": [
        "#câu 1\n",
        "import math\n",
        "\n",
        "def max_element_in_slider(num_list, k):\n",
        "  result_lst = []\n",
        "  for i in range(len(num_list)):\n",
        "    if i + k <= len(num_list):\n",
        "      sub_list = []\n",
        "      for j in range(3):\n",
        "        sub_list.append(num_list[i])\n",
        "      result_lst.append(max(sub_list))\n",
        "    else:\n",
        "      sub_list = [num_list[-3], num_list[-2], num_list[-1]]\n",
        "      result_lst.append(max(sub_list))\n",
        "  return result_lst\n",
        "if __name__ == '__main__':\n",
        "    num_list = [3, 4, 5, 1, -44 , 5 ,10, 12 ,33, 1]\n",
        "    k = 3\n",
        "    print(max_element_in_slider(num_list, k))"
      ]
    },
    {
      "cell_type": "code",
      "source": [
        "#câu 2\n",
        "def character_count(word):\n",
        "    character_statistic = {}\n",
        "    for c in word:\n",
        "        character_statistic[c] = character_statistic.get(c, 0) + 1\n",
        "    return character_statistic\n",
        "\n",
        "\n",
        "if __name__ == \"__main__\":\n",
        "    print(character_count('Happiness'))\n",
        "    print(character_count('smiles'))"
      ],
      "metadata": {
        "colab": {
          "base_uri": "https://localhost:8080/"
        },
        "id": "iqUkXVlOp8H8",
        "outputId": "8362242a-6a30-4b70-ce5f-7609730d443b"
      },
      "execution_count": null,
      "outputs": [
        {
          "output_type": "stream",
          "name": "stdout",
          "text": [
            "{'H': 1, 'a': 1, 'p': 2, 'i': 1, 'n': 1, 'e': 1, 's': 2}\n",
            "{'s': 2, 'm': 1, 'i': 1, 'l': 1, 'e': 1}\n"
          ]
        }
      ]
    },
    {
      "cell_type": "code",
      "source": [
        "#câu 3\n",
        "file_path = '/content/P1_data.txt'\n",
        "#file_path = 'module_01/week_02/P1_data.txt'\n",
        "with open(file_path, 'r') as f:\n",
        "  data = f.read()\n",
        "data = data.lower()\n",
        "data = data.split()\n",
        "\n",
        "def get_num_count_list(data):\n",
        "  num_count_list = {}\n",
        "  for word in data:\n",
        "    num_count_list[word] = num_count_list.get(word, 0) + 1\n",
        "  return num_count_list\n",
        "\n",
        "print(get_num_count_list(data))"
      ],
      "metadata": {
        "colab": {
          "base_uri": "https://localhost:8080/"
        },
        "id": "adGD4zdX2fQ9",
        "outputId": "bb92949c-c27a-412d-b75a-a3e9453ba3f1"
      },
      "execution_count": null,
      "outputs": [
        {
          "output_type": "stream",
          "name": "stdout",
          "text": [
            "{'he': 1, 'who': 3, 'conquers': 1, 'himself': 1, 'is': 3, 'the': 5, 'mightiest': 1, 'warrior': 1, 'try': 2, 'not': 1, 'to': 3, 'become': 2, 'a': 7, 'man': 6, 'of': 4, 'success': 3, 'but': 1, 'rather': 1, 'value': 1, 'one': 4, 'with': 4, 'courage': 1, 'makes': 1, 'majority': 1, 'secret': 1, 'in': 4, 'life': 2, 'for': 3, 'be': 1, 'ready': 1, 'his': 2, 'opportunity': 1, 'when': 2, 'it': 2, 'comes': 2, 'successful': 2, 'will': 2, 'profit': 1, 'from': 1, 'mistakes': 1, 'and': 1, 'again': 1, 'different': 1, 'way': 1, 'can': 3, 'lay': 1, 'firm': 1, 'foundation': 1, 'bricks': 1, 'others': 1, 'have': 1, 'thrown': 1, 'at': 1, 'him': 1, 'usually': 1, 'those': 1, 'are': 1, 'too': 1, 'busy': 1, 'looking': 1, 'we': 3, 'cannot': 1, 'solve': 1, 'problems': 1, 'kind': 1, 'thinking': 1, 'employed': 1, 'came': 1, 'up': 1, 'them': 1, 'just': 2, 'small': 1, 'positive': 1, 'thought': 1, 'morning': 1, 'change': 1, 'your': 1, 'whole': 1, 'day': 1, 'you': 3, 'get': 2, 'everything': 1, 'want': 2, 'if': 1, 'help': 1, 'enough': 1, 'other': 1, 'people': 1, 'what': 1, 'they': 1}\n"
          ]
        }
      ]
    },
    {
      "cell_type": "code",
      "source": [
        "#câu 4\n",
        "def levenshtein_distance(source, target):\n",
        "    m = len(source)\n",
        "    n = len(target)\n",
        "    D = [[0]*(n+1) for _ in range(m+1)]\n",
        "\n",
        "    for i in range(m+1):\n",
        "        D[i][0] = i\n",
        "    for j in range(n+1):\n",
        "        D[0][j] = j\n",
        "    for i in range(1, m+1):\n",
        "        for j in range(1, n+1):\n",
        "            D[i][j] = min(D[i-1][j] + 1,\n",
        "                          D[i][j-1] + 1,\n",
        "                          D[i-1][j-1] + (source[i-1] != target[j-1]))\n",
        "    return D[m][n]\n",
        "\n",
        "if __name__ == \"__main__\":\n",
        "    source = 'kitten'\n",
        "    target = 'sitting'\n",
        "    print(levenshtein_distance(source, target))"
      ],
      "metadata": {
        "colab": {
          "base_uri": "https://localhost:8080/"
        },
        "id": "gpUQ-BNsp7rm",
        "outputId": "77f4d6b7-f32a-4730-83f4-cf1c5edc4a14"
      },
      "execution_count": null,
      "outputs": [
        {
          "output_type": "stream",
          "name": "stdout",
          "text": [
            "3\n"
          ]
        }
      ]
    }
  ]
}