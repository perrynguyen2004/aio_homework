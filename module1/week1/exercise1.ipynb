{
  "nbformat": 4,
  "nbformat_minor": 0,
  "metadata": {
    "colab": {
      "provenance": [],
      "authorship_tag": "ABX9TyO4nYYFBKgxWR1zoZ1/m+sE",
      "include_colab_link": true
    },
    "kernelspec": {
      "name": "python3",
      "display_name": "Python 3"
    },
    "language_info": {
      "name": "python"
    }
  },
  "cells": [
    {
      "cell_type": "markdown",
      "metadata": {
        "id": "view-in-github",
        "colab_type": "text"
      },
      "source": [
        "<a href=\"https://colab.research.google.com/github/perrynguyen2004/aio_homework/blob/main/module1_exercise1.ipynb\" target=\"_parent\"><img src=\"https://colab.research.google.com/assets/colab-badge.svg\" alt=\"Open In Colab\"/></a>"
      ]
    },
    {
      "cell_type": "code",
      "execution_count": 13,
      "metadata": {
        "colab": {
          "base_uri": "https://localhost:8080/"
        },
        "id": "54E1V16qEuO6",
        "outputId": "ccdb00f7-39a5-45e8-ce1e-72c162101950"
      },
      "outputs": [
        {
          "output_type": "stream",
          "name": "stdout",
          "text": [
            "tp must be int\n",
            "fp must be greater than 0\n",
            "fn must be int\n"
          ]
        }
      ],
      "source": [
        "#câu 1\n",
        "tp = 0.8\n",
        "fp = -3\n",
        "fn = 4.1\n",
        "def calculate(tp, fp, fn):\n",
        "  arr = [tp, fp, fn]\n",
        "  name = ['tp', 'fp', 'fn']\n",
        "  strArr = []\n",
        "  for x in arr:\n",
        "    if x <= 0:\n",
        "      strArr.append(f'{name[arr.index(x)]} must be greater than 0')\n",
        "    if type(x) != int:\n",
        "      strArr.append(f'{name[arr.index(x)]} must be int')\n",
        "  if len(strArr) > 0:\n",
        "    for _ in strArr:\n",
        "      print(_)\n",
        "    return\n",
        "  precision = tp/(tp+fp)\n",
        "  recall = tp/(tp+fn)\n",
        "  f1 = 2*(precision*recall)/(precision+recall)\n",
        "  print(f'Precision: {precision}')\n",
        "  print(f'Recall: {recall}')\n",
        "  print(f'F1: {f1}')\n",
        "\n",
        "calculate(tp, fp, fn)"
      ]
    },
    {
      "cell_type": "code",
      "source": [
        "#câu 2\n",
        "import numpy as np\n",
        "import math\n",
        "import sys\n",
        "\n",
        "function_name_array = ['sigmoid', 'elu', 'relu']\n",
        "\n",
        "def is_number(x):\n",
        "  try:\n",
        "    float(x)\n",
        "    return True\n",
        "  except:\n",
        "    print(f'{x} must be a number')\n",
        "    return False\n",
        "\n",
        "def check_activation_function(function_name):\n",
        "  for x in function_name_array:\n",
        "    if x == function_name.lower():\n",
        "      return True\n",
        "  print(f'{function_name.lower()} is not supported ')\n",
        "  return False\n",
        "\n",
        "def sigmoid(x):\n",
        "  return 1/(1+np.exp(-x))\n",
        "\n",
        "def relu(x):\n",
        "  return max(0, x)\n",
        "\n",
        "def elu(x):\n",
        "  if x > 0:\n",
        "    return x\n",
        "  else:\n",
        "    return 0.01*(math.exp(x)-1)\n",
        "\n",
        "x = input('Nhập x: ')\n",
        "if is_number(x) == False:\n",
        "  sys.exit()\n",
        "\n",
        "activation_function = input('Nhập activation function: ')\n",
        "if check_activation_function(activation_function) == False:\n",
        "  sys.exit()\n",
        "\n",
        "if is_number(x) == True and check_activation_function(activation_function) == True:\n",
        "  if activation_function.lower() == 'sigmoid':\n",
        "    print(f'sigmoid: f({x}) = {sigmoid(float(x))}')\n",
        "  elif activation_function.lower() == 'relu':\n",
        "    print(f'elu: f({x}) = {elu(float(x))}')\n",
        "  elif activation_function.lower() == 'elu':\n",
        "    print(f'relu: f({x}) = {relu(float(x))}')\n",
        "\n"
      ],
      "metadata": {
        "colab": {
          "base_uri": "https://localhost:8080/"
        },
        "id": "39f1npt6Fgjc",
        "outputId": "ecd47864-66e0-46fa-eb78-ac9f479fba2a"
      },
      "execution_count": 29,
      "outputs": [
        {
          "output_type": "stream",
          "name": "stdout",
          "text": [
            "Nhập x: 3\n",
            "Nhập activation function: sigmoid\n",
            "sigmoid: f(3) = 0.9525741268224334\n"
          ]
        }
      ]
    },
    {
      "cell_type": "code",
      "source": [
        "#câu 3\n",
        "import math\n",
        "import random\n",
        "import sys\n",
        "\n",
        "loss_name_lst = ['mae', 'mse', 'rmse']\n",
        "\n",
        "def is_int(x):\n",
        "  if x.isnumeric():\n",
        "    return True\n",
        "  return False\n",
        "\n",
        "def check_loss_name(loss_name):\n",
        "  for name in loss_name_lst:\n",
        "    if name == loss_name.lower():\n",
        "      return True\n",
        "  return False\n",
        "\n",
        "def mae(x):\n",
        "  sum_loss = 0\n",
        "  predict_arr = []\n",
        "  target_arr = []\n",
        "  for i in range(len(x)):\n",
        "    predict_arr[i] = random.uniform(0, 10)\n",
        "    target_arr[i] = random.uniform(0, 10)\n",
        "    sum_loss += abs(target_arr[i] - predict_arr[i])\n",
        "  return predict_arr, target_arr, sum(sum_loss)/len(x)\n",
        "\n",
        "def mse(x):\n",
        "  sum_loss = 0\n",
        "  predict_arr = []\n",
        "  target_arr = []\n",
        "  for i in range(int(x)):\n",
        "    predict_arr[i] = random.uniform(0, 10)\n",
        "    target_arr[i] = random.uniform(0, 10)\n",
        "    sum_loss += (target_arr[i] - predict_arr[i])**2\n",
        "  return predict_arr, target_arr, sum(sum_loss)/len(x)\n",
        "\n",
        "def rmse(x):\n",
        "  result = mse(x)\n",
        "  return result[0], result[1], math.sqrt(result[2])\n",
        "\n",
        "x = input('Nhập x: ')\n",
        "if not is_int(x):\n",
        "  print('number of samples must be an integer number')\n",
        "  sys.exit()\n",
        "\n",
        "loss_name = input('Nhập loss name: ')\n",
        "if not check_loss_name(loss_name):\n",
        "  print(f'{loss_name.lower()} is not supported')\n",
        "  sys.exit()\n",
        "\n",
        "function_lst = [mae, mse, rmse]\n",
        "\n",
        "result = function_lst[loss_name_lst.index(loss_name.lower())](int(x))\n",
        "\n",
        "predict_arr = result[0]\n",
        "target_arr = result[1]\n",
        "loss = result[2]\n",
        "\n",
        "for i in range(int(x)):\n",
        "  print(f'loss name: {loss_name.lower()} - sample: {i} - predict: {predict_arr[i]} - target: {target_arr[i]}')\n",
        "\n",
        "print(f'loss: {loss}')"
      ],
      "metadata": {
        "colab": {
          "base_uri": "https://localhost:8080/",
          "height": 391
        },
        "id": "30bbVG4eLa_n",
        "outputId": "9f884cf2-fc5e-44e7-8bb2-7bfe1c44b7ad"
      },
      "execution_count": 31,
      "outputs": [
        {
          "name": "stdout",
          "output_type": "stream",
          "text": [
            "Nhập x: 10\n",
            "Nhập loss name: rmse\n"
          ]
        },
        {
          "output_type": "error",
          "ename": "IndexError",
          "evalue": "list assignment index out of range",
          "traceback": [
            "\u001b[0;31m---------------------------------------------------------------------------\u001b[0m",
            "\u001b[0;31mIndexError\u001b[0m                                Traceback (most recent call last)",
            "\u001b[0;32m<ipython-input-31-1ec1e2b22f32>\u001b[0m in \u001b[0;36m<cell line: 55>\u001b[0;34m()\u001b[0m\n\u001b[1;32m     53\u001b[0m \u001b[0mfunction_lst\u001b[0m \u001b[0;34m=\u001b[0m \u001b[0;34m[\u001b[0m\u001b[0mmae\u001b[0m\u001b[0;34m,\u001b[0m \u001b[0mmse\u001b[0m\u001b[0;34m,\u001b[0m \u001b[0mrmse\u001b[0m\u001b[0;34m]\u001b[0m\u001b[0;34m\u001b[0m\u001b[0;34m\u001b[0m\u001b[0m\n\u001b[1;32m     54\u001b[0m \u001b[0;34m\u001b[0m\u001b[0m\n\u001b[0;32m---> 55\u001b[0;31m \u001b[0mresult\u001b[0m \u001b[0;34m=\u001b[0m \u001b[0mfunction_lst\u001b[0m\u001b[0;34m[\u001b[0m\u001b[0mloss_name_lst\u001b[0m\u001b[0;34m.\u001b[0m\u001b[0mindex\u001b[0m\u001b[0;34m(\u001b[0m\u001b[0mloss_name\u001b[0m\u001b[0;34m.\u001b[0m\u001b[0mlower\u001b[0m\u001b[0;34m(\u001b[0m\u001b[0;34m)\u001b[0m\u001b[0;34m)\u001b[0m\u001b[0;34m]\u001b[0m\u001b[0;34m(\u001b[0m\u001b[0mint\u001b[0m\u001b[0;34m(\u001b[0m\u001b[0mx\u001b[0m\u001b[0;34m)\u001b[0m\u001b[0;34m)\u001b[0m\u001b[0;34m\u001b[0m\u001b[0;34m\u001b[0m\u001b[0m\n\u001b[0m\u001b[1;32m     56\u001b[0m \u001b[0;34m\u001b[0m\u001b[0m\n\u001b[1;32m     57\u001b[0m \u001b[0mpredict_arr\u001b[0m \u001b[0;34m=\u001b[0m \u001b[0mresult\u001b[0m\u001b[0;34m[\u001b[0m\u001b[0;36m0\u001b[0m\u001b[0;34m]\u001b[0m\u001b[0;34m\u001b[0m\u001b[0;34m\u001b[0m\u001b[0m\n",
            "\u001b[0;32m<ipython-input-31-1ec1e2b22f32>\u001b[0m in \u001b[0;36mrmse\u001b[0;34m(x)\u001b[0m\n\u001b[1;32m     38\u001b[0m \u001b[0;34m\u001b[0m\u001b[0m\n\u001b[1;32m     39\u001b[0m \u001b[0;32mdef\u001b[0m \u001b[0mrmse\u001b[0m\u001b[0;34m(\u001b[0m\u001b[0mx\u001b[0m\u001b[0;34m)\u001b[0m\u001b[0;34m:\u001b[0m\u001b[0;34m\u001b[0m\u001b[0;34m\u001b[0m\u001b[0m\n\u001b[0;32m---> 40\u001b[0;31m   \u001b[0mresult\u001b[0m \u001b[0;34m=\u001b[0m \u001b[0mmse\u001b[0m\u001b[0;34m(\u001b[0m\u001b[0mx\u001b[0m\u001b[0;34m)\u001b[0m\u001b[0;34m\u001b[0m\u001b[0;34m\u001b[0m\u001b[0m\n\u001b[0m\u001b[1;32m     41\u001b[0m   \u001b[0;32mreturn\u001b[0m \u001b[0mresult\u001b[0m\u001b[0;34m[\u001b[0m\u001b[0;36m0\u001b[0m\u001b[0;34m]\u001b[0m\u001b[0;34m,\u001b[0m \u001b[0mresult\u001b[0m\u001b[0;34m[\u001b[0m\u001b[0;36m1\u001b[0m\u001b[0;34m]\u001b[0m\u001b[0;34m,\u001b[0m \u001b[0mmath\u001b[0m\u001b[0;34m.\u001b[0m\u001b[0msqrt\u001b[0m\u001b[0;34m(\u001b[0m\u001b[0mresult\u001b[0m\u001b[0;34m[\u001b[0m\u001b[0;36m2\u001b[0m\u001b[0;34m]\u001b[0m\u001b[0;34m)\u001b[0m\u001b[0;34m\u001b[0m\u001b[0;34m\u001b[0m\u001b[0m\n\u001b[1;32m     42\u001b[0m \u001b[0;34m\u001b[0m\u001b[0m\n",
            "\u001b[0;32m<ipython-input-31-1ec1e2b22f32>\u001b[0m in \u001b[0;36mmse\u001b[0;34m(x)\u001b[0m\n\u001b[1;32m     32\u001b[0m   \u001b[0mtarget_arr\u001b[0m \u001b[0;34m=\u001b[0m \u001b[0;34m[\u001b[0m\u001b[0;34m]\u001b[0m\u001b[0;34m\u001b[0m\u001b[0;34m\u001b[0m\u001b[0m\n\u001b[1;32m     33\u001b[0m   \u001b[0;32mfor\u001b[0m \u001b[0mi\u001b[0m \u001b[0;32min\u001b[0m \u001b[0mrange\u001b[0m\u001b[0;34m(\u001b[0m\u001b[0mint\u001b[0m\u001b[0;34m(\u001b[0m\u001b[0mx\u001b[0m\u001b[0;34m)\u001b[0m\u001b[0;34m)\u001b[0m\u001b[0;34m:\u001b[0m\u001b[0;34m\u001b[0m\u001b[0;34m\u001b[0m\u001b[0m\n\u001b[0;32m---> 34\u001b[0;31m     \u001b[0mpredict_arr\u001b[0m\u001b[0;34m[\u001b[0m\u001b[0mi\u001b[0m\u001b[0;34m]\u001b[0m \u001b[0;34m=\u001b[0m \u001b[0mrandom\u001b[0m\u001b[0;34m.\u001b[0m\u001b[0muniform\u001b[0m\u001b[0;34m(\u001b[0m\u001b[0;36m0\u001b[0m\u001b[0;34m,\u001b[0m \u001b[0;36m10\u001b[0m\u001b[0;34m)\u001b[0m\u001b[0;34m\u001b[0m\u001b[0;34m\u001b[0m\u001b[0m\n\u001b[0m\u001b[1;32m     35\u001b[0m     \u001b[0mtarget_arr\u001b[0m\u001b[0;34m[\u001b[0m\u001b[0mi\u001b[0m\u001b[0;34m]\u001b[0m \u001b[0;34m=\u001b[0m \u001b[0mrandom\u001b[0m\u001b[0;34m.\u001b[0m\u001b[0muniform\u001b[0m\u001b[0;34m(\u001b[0m\u001b[0;36m0\u001b[0m\u001b[0;34m,\u001b[0m \u001b[0;36m10\u001b[0m\u001b[0;34m)\u001b[0m\u001b[0;34m\u001b[0m\u001b[0;34m\u001b[0m\u001b[0m\n\u001b[1;32m     36\u001b[0m     \u001b[0msum_loss\u001b[0m \u001b[0;34m+=\u001b[0m \u001b[0;34m(\u001b[0m\u001b[0mtarget_arr\u001b[0m\u001b[0;34m[\u001b[0m\u001b[0mi\u001b[0m\u001b[0;34m]\u001b[0m \u001b[0;34m-\u001b[0m \u001b[0mpredict_arr\u001b[0m\u001b[0;34m[\u001b[0m\u001b[0mi\u001b[0m\u001b[0;34m]\u001b[0m\u001b[0;34m)\u001b[0m\u001b[0;34m**\u001b[0m\u001b[0;36m2\u001b[0m\u001b[0;34m\u001b[0m\u001b[0;34m\u001b[0m\u001b[0m\n",
            "\u001b[0;31mIndexError\u001b[0m: list assignment index out of range"
          ]
        }
      ]
    },
    {
      "cell_type": "code",
      "source": [
        "import math\n",
        "import random\n",
        "import sys\n",
        "\n",
        "loss_name_lst = ['mae', 'mse', 'rmse']\n",
        "\n",
        "def is_int(x):\n",
        "    return x.isnumeric()\n",
        "\n",
        "def check_loss_name(loss_name):\n",
        "    return loss_name.lower() in loss_name_lst\n",
        "\n",
        "def mae(x):\n",
        "    sum_loss = 0\n",
        "    predict_arr = []\n",
        "    target_arr = []\n",
        "    for i in range(x):\n",
        "        predict_arr.append(random.uniform(0, 10))\n",
        "        target_arr.append(random.uniform(0, 10))\n",
        "        sum_loss += abs(target_arr[i] - predict_arr[i])\n",
        "    return predict_arr, target_arr, sum_loss / x\n",
        "\n",
        "def mse(x):\n",
        "    sum_loss = 0\n",
        "    predict_arr = []\n",
        "    target_arr = []\n",
        "    for i in range(x):\n",
        "        predict_arr.append(random.uniform(0, 10))\n",
        "        target_arr.append(random.uniform(0, 10))\n",
        "        sum_loss += (target_arr[i] - predict_arr[i]) ** 2\n",
        "    return predict_arr, target_arr, sum_loss / x\n",
        "\n",
        "def rmse(x):\n",
        "    result = mse(x)\n",
        "    return result[0], result[1], math.sqrt(result[2])\n",
        "\n",
        "x = input('Nhập x: ')\n",
        "if not is_int(x):\n",
        "    print('number of samples must be an integer number')\n",
        "    sys.exit()\n",
        "\n",
        "x = int(x)\n",
        "\n",
        "loss_name = input('Nhập loss name: ')\n",
        "if not check_loss_name(loss_name):\n",
        "    print(f'{loss_name.lower()} is not supported')\n",
        "    sys.exit()\n",
        "\n",
        "function_lst = [mae, mse, rmse]\n",
        "\n",
        "result = function_lst[loss_name_lst.index(loss_name.lower())](x)\n",
        "\n",
        "predict_arr = result[0]\n",
        "target_arr = result[1]\n",
        "loss = result[2]\n",
        "\n",
        "print('')\n",
        "\n",
        "for i in range(x):\n",
        "    print(f'loss name: {loss_name.lower()} - sample: {i} - predict: {predict_arr[i]} - target: {target_arr[i]}')\n",
        "\n",
        "print(f'\\nloss: {loss}')\n"
      ],
      "metadata": {
        "colab": {
          "base_uri": "https://localhost:8080/"
        },
        "id": "LDVewceahPgt",
        "outputId": "05e8d39b-a54b-4318-90c1-21e99ebd5adc"
      },
      "execution_count": 35,
      "outputs": [
        {
          "output_type": "stream",
          "name": "stdout",
          "text": [
            "Nhập x: 10\n",
            "Nhập loss name: rmse\n",
            "\n",
            "loss name: rmse - sample: 0 - predict: 7.125710471003081 - target: 2.6051624185019886\n",
            "loss name: rmse - sample: 1 - predict: 8.347936716934491 - target: 1.0802490773539597\n",
            "loss name: rmse - sample: 2 - predict: 1.9663936072197674 - target: 5.314446498561817\n",
            "loss name: rmse - sample: 3 - predict: 3.4018240744243045 - target: 8.914163514921837\n",
            "loss name: rmse - sample: 4 - predict: 6.104513548858211 - target: 4.669618023941945\n",
            "loss name: rmse - sample: 5 - predict: 8.394245134538458 - target: 6.909592985202318\n",
            "loss name: rmse - sample: 6 - predict: 1.8106164949639025 - target: 9.444421537879194\n",
            "loss name: rmse - sample: 7 - predict: 6.923214618367547 - target: 1.9224014637523212\n",
            "loss name: rmse - sample: 8 - predict: 8.948457069703139 - target: 2.985142450302444\n",
            "loss name: rmse - sample: 9 - predict: 6.759337643767314 - target: 6.427737169205007\n",
            "\n",
            "loss: 4.879213989253027\n"
          ]
        }
      ]
    },
    {
      "cell_type": "code",
      "source": [
        "#câu 4\n",
        "def is_int(x):\n",
        "  return x.isnumeric()\n",
        "\n",
        "x = input('Nhập x: ')\n",
        "\n",
        "n = input('Nhập n: ')\n",
        "\n",
        "if not is_int(n):\n",
        "  print('number of samples must be an integer number')\n",
        "  sys.exit()\n",
        "\n",
        "if is_int(n) and int(n) <= 0:\n",
        "  print('number of samples must be greater than 0')\n",
        "  sys.exit()\n",
        "\n",
        "x = int(x)\n",
        "n = int(n)\n",
        "\n",
        "def factorial(n):\n",
        "  if n == 0:\n",
        "    return 1\n",
        "  return n * factorial(n-1)\n",
        "\n",
        "def sin(x, n):\n",
        "  res = 0\n",
        "  for i in range(n):\n",
        "    res += ((-1)**i) * (x**(2*i+1)/(factorial(2*i+1)))\n",
        "  return res\n",
        "\n",
        "def cos(x, n):\n",
        "  res = 0\n",
        "  for i in range(n):\n",
        "    res += ((-1)**i) * (x**(2*i)/(factorial(2*i)))\n",
        "  return res\n",
        "\n",
        "def sinh(x,n):\n",
        "  res = 0\n",
        "  for i in range(n):\n",
        "    res += (x**(2*i+1)/(factorial(2*i+1)))\n",
        "  return res\n",
        "\n",
        "def cosh(x,n):\n",
        "  res = 0\n",
        "  for i in range(n):\n",
        "    res += (x**(2*i)/(factorial(2*i)))\n",
        "  return res\n",
        "\n",
        "cosh(x, n)"
      ],
      "metadata": {
        "colab": {
          "base_uri": "https://localhost:8080/"
        },
        "id": "TVcjrg7viUM4",
        "outputId": "e81cc81b-2aec-4bf7-dabd-a21cd5253d83"
      },
      "execution_count": 38,
      "outputs": [
        {
          "name": "stdout",
          "output_type": "stream",
          "text": [
            "Nhập x: 2\n",
            "Nhập n: 7\n"
          ]
        },
        {
          "output_type": "execute_result",
          "data": {
            "text/plain": [
              "3.7621954999732776"
            ]
          },
          "metadata": {},
          "execution_count": 38
        }
      ]
    },
    {
      "cell_type": "code",
      "source": [
        "#câu 5\n",
        "def md_nre(y1, y2, n, p):\n",
        "  return (y1**1/n - y2**1/n)**p\n",
        "\n",
        "md_nre(24.8, 63.9, 1, 1)"
      ],
      "metadata": {
        "colab": {
          "base_uri": "https://localhost:8080/"
        },
        "id": "Agd9v05ZxrS9",
        "outputId": "38c92db2-a475-4e69-cf7d-5aed8316e93a"
      },
      "execution_count": 41,
      "outputs": [
        {
          "output_type": "execute_result",
          "data": {
            "text/plain": [
              "-39.099999999999994"
            ]
          },
          "metadata": {},
          "execution_count": 41
        }
      ]
    }
  ]
}